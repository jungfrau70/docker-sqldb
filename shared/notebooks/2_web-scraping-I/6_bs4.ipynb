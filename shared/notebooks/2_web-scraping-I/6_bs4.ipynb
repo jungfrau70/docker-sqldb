{
 "cells": [
  {
   "cell_type": "markdown",
   "metadata": {},
   "source": [
    "### BeautifulSoup"
   ]
  },
  {
   "cell_type": "markdown",
   "metadata": {},
   "source": [
    "https://www.crummy.com/software/BeautifulSoup/bs4/doc.ko/"
   ]
  },
  {
   "cell_type": "code",
   "execution_count": 1,
   "metadata": {
    "scrolled": true
   },
   "outputs": [
    {
     "name": "stdout",
     "output_type": "stream",
     "text": [
      "Defaulting to user installation because normal site-packages is not writeable\n",
      "Requirement already satisfied: beautifulsoup4 in /usr/local/lib/python3.6/dist-packages (4.6.0)\n",
      "Note: you may need to restart the kernel to use updated packages.\n"
     ]
    }
   ],
   "source": [
    "%pip install beautifulsoup4"
   ]
  },
  {
   "cell_type": "code",
   "execution_count": 2,
   "metadata": {},
   "outputs": [
    {
     "name": "stdout",
     "output_type": "stream",
     "text": [
      "Defaulting to user installation because normal site-packages is not writeable\n",
      "Requirement already satisfied: lxml in /usr/local/lib/python3.6/dist-packages (4.6.3)\n",
      "Note: you may need to restart the kernel to use updated packages.\n"
     ]
    }
   ],
   "source": [
    "%pip install lxml"
   ]
  },
  {
   "cell_type": "code",
   "execution_count": 3,
   "metadata": {},
   "outputs": [],
   "source": [
    "import requests\n",
    "from bs4 import BeautifulSoup\n",
    "\n",
    "headers = {\"User-Agent\":\"Mozilla/5.0 (Windows NT 10.0; Win64; x64) AppleWebKit/537.36 (KHTML, like Gecko) Chrome/84.0.4147.135 Safari/537.36\"}\n",
    "url = \"https://comic.naver.com/index.nhn\"\n",
    "res = requests.get(url, headers=headers)\n",
    "res.raise_for_status() # 문제 있으면 프로그램 종료 시킬 것"
   ]
  },
  {
   "cell_type": "code",
   "execution_count": 4,
   "metadata": {},
   "outputs": [],
   "source": [
    "soup = BeautifulSoup(res.text, \"lxml\") # 가져온 html 문서 (res.text) 를 lxml parser 를 통해서 soup 객체를 만듬"
   ]
  },
  {
   "cell_type": "markdown",
   "metadata": {},
   "source": [
    "### 해당 웹페이지를 잘 알고 있을 때"
   ]
  },
  {
   "cell_type": "code",
   "execution_count": 5,
   "metadata": {
    "scrolled": true
   },
   "outputs": [
    {
     "name": "stdout",
     "output_type": "stream",
     "text": [
      "<title>네이버 만화</title>\n"
     ]
    }
   ],
   "source": [
    "print(soup.title)  # header > title 을 보여 줌"
   ]
  },
  {
   "cell_type": "code",
   "execution_count": 6,
   "metadata": {},
   "outputs": [
    {
     "name": "stdout",
     "output_type": "stream",
     "text": [
      "네이버 만화\n"
     ]
    }
   ],
   "source": [
    "print(soup.title.get_text()) # header> title 속성의 text 를 보여 줌"
   ]
  },
  {
   "cell_type": "code",
   "execution_count": 7,
   "metadata": {},
   "outputs": [
    {
     "name": "stdout",
     "output_type": "stream",
     "text": [
      "<a href=\"#menu\" onclick=\"document.getElementById('menu').tabIndex=-1;document.getElementById('menu').focus();return false;\"><span>메인 메뉴로 바로가기</span></a>\n"
     ]
    }
   ],
   "source": [
    "print(soup.a)  # 처음 발견되는 'a' tag 정보를 보여 줌, XPATH : /html/body/div/div[2]/div[1]/div[2]/h1/a[1]"
   ]
  },
  {
   "cell_type": "code",
   "execution_count": 8,
   "metadata": {},
   "outputs": [
    {
     "name": "stdout",
     "output_type": "stream",
     "text": [
      "{'href': '#menu', 'onclick': \"document.getElementById('menu').tabIndex=-1;document.getElementById('menu').focus();return false;\"}\n"
     ]
    }
   ],
   "source": [
    "print(soup.a.attrs)  #  처음 발견되는 'a' tag 의 속성를 딕셔너리 형태로 보여 줌"
   ]
  },
  {
   "cell_type": "code",
   "execution_count": 9,
   "metadata": {},
   "outputs": [
    {
     "name": "stdout",
     "output_type": "stream",
     "text": [
      "#menu\n"
     ]
    }
   ],
   "source": [
    "print(soup.a[\"href\"]) #  href 의 속성값을 보여 줌"
   ]
  },
  {
   "cell_type": "markdown",
   "metadata": {},
   "source": [
    "### 해당 웹페이지를 잘 모를 때"
   ]
  },
  {
   "cell_type": "code",
   "execution_count": 10,
   "metadata": {},
   "outputs": [
    {
     "name": "stdout",
     "output_type": "stream",
     "text": [
      "<a class=\"Nbtn_upload\" href=\"/mypage/myActivity.nhn\" onclick=\"nclk_v2(event,'olk.upload');\">웹툰 올리기</a>\n"
     ]
    }
   ],
   "source": [
    "print(soup.find(\"a\", attrs={\"class\":\"Nbtn_upload\"} ))  # a tag 에 해당하는 것 들 중, class 속성이 Nbtn_upload 인 거 보여 줌"
   ]
  },
  {
   "cell_type": "code",
   "execution_count": 11,
   "metadata": {},
   "outputs": [
    {
     "name": "stdout",
     "output_type": "stream",
     "text": [
      "<a class=\"Nbtn_upload\" href=\"/mypage/myActivity.nhn\" onclick=\"nclk_v2(event,'olk.upload');\">웹툰 올리기</a>\n"
     ]
    }
   ],
   "source": [
    "print(soup.find(attrs={\"class\":\"Nbtn_upload\"} ))  # a tag 에 해당하는 것 들 중, class 속성이 Nbtn_upload 인 거 보여 줌"
   ]
  },
  {
   "cell_type": "code",
   "execution_count": 12,
   "metadata": {},
   "outputs": [
    {
     "name": "stdout",
     "output_type": "stream",
     "text": [
      "<li class=\"rank01\">\n",
      "<a href=\"/webtoon/detail.nhn?titleId=747269&amp;no=55\" onclick=\"nclk_v2(event,'rnk*p.cont','747269','1')\" title=\"전지적 독자 시점-054. Ep.12 1인칭 주인공 시점 (2)\">전지적 독자 시점-054. Ep.12 1인칭 주인공 시점 (2)</a>\n",
      "<span class=\"rankBox\">\n",
      "<img alt=\"변동없음\" height=\"10\" src=\"https://ssl.pstatic.net/static/comic/images/migration/common/arrow_no.gif\" title=\"변동없음\" width=\"7\"/> 0\n",
      "\t\t\t\t\t\t\n",
      "\t\t\t\t\t\n",
      "\t\t\t\t</span>\n",
      "</li>\n"
     ]
    }
   ],
   "source": [
    "print(soup.find(\"li\", attrs={\"class\":\"rank01\"}))"
   ]
  },
  {
   "cell_type": "code",
   "execution_count": 13,
   "metadata": {},
   "outputs": [
    {
     "name": "stdout",
     "output_type": "stream",
     "text": [
      "<a href=\"/webtoon/detail.nhn?titleId=747269&amp;no=55\" onclick=\"nclk_v2(event,'rnk*p.cont','747269','1')\" title=\"전지적 독자 시점-054. Ep.12 1인칭 주인공 시점 (2)\">전지적 독자 시점-054. Ep.12 1인칭 주인공 시점 (2)</a>\n"
     ]
    }
   ],
   "source": [
    "rank1 = soup.find(\"li\", attrs={\"class\":\"rank01\"})\n",
    "print (rank1.a)"
   ]
  },
  {
   "cell_type": "markdown",
   "metadata": {},
   "source": [
    "### 형제자매/부모 tag를 가져오기"
   ]
  },
  {
   "cell_type": "code",
   "execution_count": 14,
   "metadata": {},
   "outputs": [
    {
     "name": "stdout",
     "output_type": "stream",
     "text": [
      "전지적 독자 시점-054. Ep.12 1인칭 주인공 시점 (2)\n"
     ]
    }
   ],
   "source": [
    "print (rank1.a.get_text())"
   ]
  },
  {
   "cell_type": "code",
   "execution_count": 15,
   "metadata": {},
   "outputs": [
    {
     "name": "stdout",
     "output_type": "stream",
     "text": [
      "\n",
      "\n"
     ]
    }
   ],
   "source": [
    "print(rank1.next_sibling)  # 줄 바꿈(개행 문자 /n) 같은 것이 있는 경우"
   ]
  },
  {
   "cell_type": "code",
   "execution_count": 16,
   "metadata": {},
   "outputs": [
    {
     "name": "stdout",
     "output_type": "stream",
     "text": [
      "<li class=\"rank02\">\n",
      "<a href=\"/webtoon/detail.nhn?titleId=758662&amp;no=21\" onclick=\"nclk_v2(event,'rnk*p.cont','758662','2')\" title=\"급식아빠-21화 선 넘네?\">급식아빠-21화 선 넘네?</a>\n",
      "<span class=\"rankBox\">\n",
      "<img alt=\"변동없음\" height=\"10\" src=\"https://ssl.pstatic.net/static/comic/images/migration/common/arrow_no.gif\" title=\"변동없음\" width=\"7\"/> 0\n",
      "\t\t\t\t\t\t\n",
      "\t\t\t\t\t\n",
      "\t\t\t\t</span>\n",
      "</li>\n"
     ]
    }
   ],
   "source": [
    "print(rank1.next_sibling.next_sibling)"
   ]
  },
  {
   "cell_type": "code",
   "execution_count": 17,
   "metadata": {},
   "outputs": [
    {
     "name": "stdout",
     "output_type": "stream",
     "text": [
      "<li class=\"rank02\">\n",
      "<a href=\"/webtoon/detail.nhn?titleId=758662&amp;no=21\" onclick=\"nclk_v2(event,'rnk*p.cont','758662','2')\" title=\"급식아빠-21화 선 넘네?\">급식아빠-21화 선 넘네?</a>\n",
      "<span class=\"rankBox\">\n",
      "<img alt=\"변동없음\" height=\"10\" src=\"https://ssl.pstatic.net/static/comic/images/migration/common/arrow_no.gif\" title=\"변동없음\" width=\"7\"/> 0\n",
      "\t\t\t\t\t\t\n",
      "\t\t\t\t\t\n",
      "\t\t\t\t</span>\n",
      "</li>\n"
     ]
    }
   ],
   "source": [
    "rank2 = rank1.next_sibling.next_sibling\n",
    "print(rank2)"
   ]
  },
  {
   "cell_type": "code",
   "execution_count": 18,
   "metadata": {},
   "outputs": [
    {
     "name": "stdout",
     "output_type": "stream",
     "text": [
      "<li class=\"rank03\">\n",
      "<a href=\"/webtoon/detail.nhn?titleId=626907&amp;no=349\" onclick=\"nclk_v2(event,'rnk*p.cont','626907','3')\" title=\"복학왕-347화 다들 먹고 산다 1화\">복학왕-347화 다들 먹고 산다 1화</a>\n",
      "<span class=\"rankBox\">\n",
      "<img alt=\"변동없음\" height=\"10\" src=\"https://ssl.pstatic.net/static/comic/images/migration/common/arrow_no.gif\" title=\"변동없음\" width=\"7\"/> 0\n",
      "\t\t\t\t\t\t\n",
      "\t\t\t\t\t\n",
      "\t\t\t\t</span>\n",
      "</li>\n"
     ]
    }
   ],
   "source": [
    "rank3 = rank2.next_sibling.next_sibling\n",
    "print(rank3)"
   ]
  },
  {
   "cell_type": "code",
   "execution_count": 19,
   "metadata": {},
   "outputs": [
    {
     "name": "stdout",
     "output_type": "stream",
     "text": [
      "<li class=\"rank02\">\n",
      "<a href=\"/webtoon/detail.nhn?titleId=758662&amp;no=21\" onclick=\"nclk_v2(event,'rnk*p.cont','758662','2')\" title=\"급식아빠-21화 선 넘네?\">급식아빠-21화 선 넘네?</a>\n",
      "<span class=\"rankBox\">\n",
      "<img alt=\"변동없음\" height=\"10\" src=\"https://ssl.pstatic.net/static/comic/images/migration/common/arrow_no.gif\" title=\"변동없음\" width=\"7\"/> 0\n",
      "\t\t\t\t\t\t\n",
      "\t\t\t\t\t\n",
      "\t\t\t\t</span>\n",
      "</li>\n"
     ]
    }
   ],
   "source": [
    "rank2 = rank3.previous_sibling.previous_sibling\n",
    "print(rank2)"
   ]
  },
  {
   "cell_type": "code",
   "execution_count": 20,
   "metadata": {},
   "outputs": [
    {
     "name": "stdout",
     "output_type": "stream",
     "text": [
      "<ol class=\"asideBoxRank\" id=\"realTimeRankFavorite\">\n",
      "<li class=\"rank01\">\n",
      "<a href=\"/webtoon/detail.nhn?titleId=747269&amp;no=55\" onclick=\"nclk_v2(event,'rnk*p.cont','747269','1')\" title=\"전지적 독자 시점-054. Ep.12 1인칭 주인공 시점 (2)\">전지적 독자 시점-054. Ep.12 1인칭 주인공 시점 (2)</a>\n",
      "<span class=\"rankBox\">\n",
      "<img alt=\"변동없음\" height=\"10\" src=\"https://ssl.pstatic.net/static/comic/images/migration/common/arrow_no.gif\" title=\"변동없음\" width=\"7\"/> 0\n",
      "\t\t\t\t\t\t\n",
      "\t\t\t\t\t\n",
      "\t\t\t\t</span>\n",
      "</li>\n",
      "<li class=\"rank02\">\n",
      "<a href=\"/webtoon/detail.nhn?titleId=758662&amp;no=21\" onclick=\"nclk_v2(event,'rnk*p.cont','758662','2')\" title=\"급식아빠-21화 선 넘네?\">급식아빠-21화 선 넘네?</a>\n",
      "<span class=\"rankBox\">\n",
      "<img alt=\"변동없음\" height=\"10\" src=\"https://ssl.pstatic.net/static/comic/images/migration/common/arrow_no.gif\" title=\"변동없음\" width=\"7\"/> 0\n",
      "\t\t\t\t\t\t\n",
      "\t\t\t\t\t\n",
      "\t\t\t\t</span>\n",
      "</li>\n",
      "<li class=\"rank03\">\n",
      "<a href=\"/webtoon/detail.nhn?titleId=626907&amp;no=349\" onclick=\"nclk_v2(event,'rnk*p.cont','626907','3')\" title=\"복학왕-347화 다들 먹고 산다 1화\">복학왕-347화 다들 먹고 산다 1화</a>\n",
      "<span class=\"rankBox\">\n",
      "<img alt=\"변동없음\" height=\"10\" src=\"https://ssl.pstatic.net/static/comic/images/migration/common/arrow_no.gif\" title=\"변동없음\" width=\"7\"/> 0\n",
      "\t\t\t\t\t\t\n",
      "\t\t\t\t\t\n",
      "\t\t\t\t</span>\n",
      "</li>\n",
      "<li class=\"rank04\">\n",
      "<a href=\"/webtoon/detail.nhn?titleId=738694&amp;no=59\" onclick=\"nclk_v2(event,'rnk*p.cont','738694','4')\" title=\"튜토리얼 탑의 고인물-59화\">튜토리얼 탑의 고인물-59화</a>\n",
      "<span class=\"rankBox\">\n",
      "<img alt=\"변동없음\" height=\"10\" src=\"https://ssl.pstatic.net/static/comic/images/migration/common/arrow_no.gif\" title=\"변동없음\" width=\"7\"/> 0\n",
      "\t\t\t\t\t\t\n",
      "\t\t\t\t\t\n",
      "\t\t\t\t</span>\n",
      "</li>\n",
      "<li class=\"rank05\">\n",
      "<a href=\"/webtoon/detail.nhn?titleId=670143&amp;no=255\" onclick=\"nclk_v2(event,'rnk*p.cont','670143','5')\" title=\"헬퍼 2 : 킬베로스-254화. ■\">헬퍼 2 : 킬베로스-254화. ■</a>\n",
      "<span class=\"rankBox\">\n",
      "<img alt=\"변동없음\" height=\"10\" src=\"https://ssl.pstatic.net/static/comic/images/migration/common/arrow_no.gif\" title=\"변동없음\" width=\"7\"/> 0\n",
      "\t\t\t\t\t\t\n",
      "\t\t\t\t\t\n",
      "\t\t\t\t</span>\n",
      "</li>\n",
      "<li class=\"rank06\">\n",
      "<a href=\"/webtoon/detail.nhn?titleId=750184&amp;no=45\" onclick=\"nclk_v2(event,'rnk*p.cont','750184','6')\" title=\"나쁜사람-45화\">나쁜사람-45화</a>\n",
      "<span class=\"rankBox\">\n",
      "<img alt=\"순위상승\" height=\"10\" src=\"https://ssl.pstatic.net/static/comic/images/migration/common/arrow_up.gif\" title=\"순위상승\" width=\"7\"/>2\n",
      "\t\t\t\t\t\t\n",
      "\t\t\t\t\t\t\n",
      "\t\t\t\t\t\n",
      "\t\t\t\t</span>\n",
      "</li>\n",
      "<li class=\"rank07\">\n",
      "<a href=\"/webtoon/detail.nhn?titleId=738143&amp;no=75\" onclick=\"nclk_v2(event,'rnk*p.cont','738143','7')\" title=\"여주실격!-72화 적을 더 가까이 두라 (3)\">여주실격!-72화 적을 더 가까이 두라 (3)</a>\n",
      "<span class=\"rankBox\">\n",
      "<img alt=\"변동없음\" height=\"10\" src=\"https://ssl.pstatic.net/static/comic/images/migration/common/arrow_no.gif\" title=\"변동없음\" width=\"7\"/> 0\n",
      "\t\t\t\t\t\t\n",
      "\t\t\t\t\t\n",
      "\t\t\t\t</span>\n",
      "</li>\n",
      "<li class=\"rank08\">\n",
      "<a href=\"/webtoon/detail.nhn?titleId=749639&amp;no=47\" onclick=\"nclk_v2(event,'rnk*p.cont','749639','8')\" title=\"남주의 첫날밤을 가져버렸다-47화\">남주의 첫날밤을 가져버렸다-47화</a>\n",
      "<span class=\"rankBox\">\n",
      "<img alt=\"순위하락\" height=\"10\" src=\"https://ssl.pstatic.net/static/comic/images/migration/common/arrow_down.gif\" title=\"순위하락\" width=\"7\"/>2\n",
      "\t\t\t\t\t\t\n",
      "\t\t\t\t\t\t\n",
      "\t\t\t\t\t\t\n",
      "\t\t\t\t\t\n",
      "\t\t\t\t</span>\n",
      "</li>\n",
      "<li class=\"rank09\">\n",
      "<a href=\"/webtoon/detail.nhn?titleId=710747&amp;no=130\" onclick=\"nclk_v2(event,'rnk*p.cont','710747','9')\" title=\"세상은 돈과 권력-시즌2 23화\">세상은 돈과 권력-시즌2 23화</a>\n",
      "<span class=\"rankBox\">\n",
      "<img alt=\"변동없음\" height=\"10\" src=\"https://ssl.pstatic.net/static/comic/images/migration/common/arrow_no.gif\" title=\"변동없음\" width=\"7\"/> 0\n",
      "\t\t\t\t\t\t\n",
      "\t\t\t\t\t\n",
      "\t\t\t\t</span>\n",
      "</li>\n",
      "<li class=\"rank10\">\n",
      "<a href=\"/webtoon/detail.nhn?titleId=736744&amp;no=81\" onclick=\"nclk_v2(event,'rnk*p.cont','736744','10')\" title=\"캐슬-80화\">캐슬-80화</a>\n",
      "<span class=\"rankBox\">\n",
      "<img alt=\"순위상승\" height=\"10\" src=\"https://ssl.pstatic.net/static/comic/images/migration/common/arrow_up.gif\" title=\"순위상승\" width=\"7\"/>1\n",
      "\t\t\t\t\t\t\n",
      "\t\t\t\t\t\t\n",
      "\t\t\t\t\t\n",
      "\t\t\t\t</span>\n",
      "</li>\n",
      "</ol>\n"
     ]
    }
   ],
   "source": [
    "print(rank1.parent)"
   ]
  },
  {
   "cell_type": "markdown",
   "metadata": {},
   "source": [
    "### 조건으로 찾기"
   ]
  },
  {
   "cell_type": "code",
   "execution_count": 21,
   "metadata": {},
   "outputs": [
    {
     "name": "stdout",
     "output_type": "stream",
     "text": [
      "급식아빠-21화 선 넘네?\n"
     ]
    }
   ],
   "source": [
    "rank2 = rank1.find_next_sibling(\"li\") # 중간에 개행이 있는지 여부 관계 없이 다음 sibling 을 가져 옴\n",
    "print (rank2.a.get_text())"
   ]
  },
  {
   "cell_type": "code",
   "execution_count": 22,
   "metadata": {},
   "outputs": [
    {
     "name": "stdout",
     "output_type": "stream",
     "text": [
      "복학왕-347화 다들 먹고 산다 1화\n"
     ]
    }
   ],
   "source": [
    "rank3 = rank2.find_next_sibling(\"li\") # 중간에 개행이 있는지 여부 관계 없이 다음 sibling 을 가져 옴\n",
    "print (rank3.a.get_text())"
   ]
  },
  {
   "cell_type": "code",
   "execution_count": 23,
   "metadata": {},
   "outputs": [
    {
     "name": "stdout",
     "output_type": "stream",
     "text": [
      "튜토리얼 탑의 고인물-59화\n"
     ]
    }
   ],
   "source": [
    "rank4 = rank3.find_next_sibling(\"li\") # 중간에 개행이 있는지 여부 관계 없이 다음 sibling 을 가져 옴\n",
    "print (rank4.a.get_text())"
   ]
  },
  {
   "cell_type": "code",
   "execution_count": 24,
   "metadata": {},
   "outputs": [
    {
     "name": "stdout",
     "output_type": "stream",
     "text": [
      "복학왕-347화 다들 먹고 산다 1화\n"
     ]
    }
   ],
   "source": [
    "rank3 = rank4.find_previous_sibling(\"li\") # 중간에 개행이 있는지 여부 관계 없이 다음 sibling 을 가져 옴\n",
    "print (rank3.a.get_text())"
   ]
  },
  {
   "cell_type": "markdown",
   "metadata": {},
   "source": [
    "### 한번에 형제자매 정보를 모두 가져오기"
   ]
  },
  {
   "cell_type": "code",
   "execution_count": 25,
   "metadata": {},
   "outputs": [
    {
     "data": {
      "text/plain": [
       "[<li class=\"rank02\">\n",
       " <a href=\"/webtoon/detail.nhn?titleId=758662&amp;no=21\" onclick=\"nclk_v2(event,'rnk*p.cont','758662','2')\" title=\"급식아빠-21화 선 넘네?\">급식아빠-21화 선 넘네?</a>\n",
       " <span class=\"rankBox\">\n",
       " <img alt=\"변동없음\" height=\"10\" src=\"https://ssl.pstatic.net/static/comic/images/migration/common/arrow_no.gif\" title=\"변동없음\" width=\"7\"/> 0\n",
       " \t\t\t\t\t\t\n",
       " \t\t\t\t\t\n",
       " \t\t\t\t</span>\n",
       " </li>, <li class=\"rank03\">\n",
       " <a href=\"/webtoon/detail.nhn?titleId=626907&amp;no=349\" onclick=\"nclk_v2(event,'rnk*p.cont','626907','3')\" title=\"복학왕-347화 다들 먹고 산다 1화\">복학왕-347화 다들 먹고 산다 1화</a>\n",
       " <span class=\"rankBox\">\n",
       " <img alt=\"변동없음\" height=\"10\" src=\"https://ssl.pstatic.net/static/comic/images/migration/common/arrow_no.gif\" title=\"변동없음\" width=\"7\"/> 0\n",
       " \t\t\t\t\t\t\n",
       " \t\t\t\t\t\n",
       " \t\t\t\t</span>\n",
       " </li>, <li class=\"rank04\">\n",
       " <a href=\"/webtoon/detail.nhn?titleId=738694&amp;no=59\" onclick=\"nclk_v2(event,'rnk*p.cont','738694','4')\" title=\"튜토리얼 탑의 고인물-59화\">튜토리얼 탑의 고인물-59화</a>\n",
       " <span class=\"rankBox\">\n",
       " <img alt=\"변동없음\" height=\"10\" src=\"https://ssl.pstatic.net/static/comic/images/migration/common/arrow_no.gif\" title=\"변동없음\" width=\"7\"/> 0\n",
       " \t\t\t\t\t\t\n",
       " \t\t\t\t\t\n",
       " \t\t\t\t</span>\n",
       " </li>, <li class=\"rank05\">\n",
       " <a href=\"/webtoon/detail.nhn?titleId=670143&amp;no=255\" onclick=\"nclk_v2(event,'rnk*p.cont','670143','5')\" title=\"헬퍼 2 : 킬베로스-254화. ■\">헬퍼 2 : 킬베로스-254화. ■</a>\n",
       " <span class=\"rankBox\">\n",
       " <img alt=\"변동없음\" height=\"10\" src=\"https://ssl.pstatic.net/static/comic/images/migration/common/arrow_no.gif\" title=\"변동없음\" width=\"7\"/> 0\n",
       " \t\t\t\t\t\t\n",
       " \t\t\t\t\t\n",
       " \t\t\t\t</span>\n",
       " </li>, <li class=\"rank06\">\n",
       " <a href=\"/webtoon/detail.nhn?titleId=750184&amp;no=45\" onclick=\"nclk_v2(event,'rnk*p.cont','750184','6')\" title=\"나쁜사람-45화\">나쁜사람-45화</a>\n",
       " <span class=\"rankBox\">\n",
       " <img alt=\"순위상승\" height=\"10\" src=\"https://ssl.pstatic.net/static/comic/images/migration/common/arrow_up.gif\" title=\"순위상승\" width=\"7\"/>2\n",
       " \t\t\t\t\t\t\n",
       " \t\t\t\t\t\t\n",
       " \t\t\t\t\t\n",
       " \t\t\t\t</span>\n",
       " </li>, <li class=\"rank07\">\n",
       " <a href=\"/webtoon/detail.nhn?titleId=738143&amp;no=75\" onclick=\"nclk_v2(event,'rnk*p.cont','738143','7')\" title=\"여주실격!-72화 적을 더 가까이 두라 (3)\">여주실격!-72화 적을 더 가까이 두라 (3)</a>\n",
       " <span class=\"rankBox\">\n",
       " <img alt=\"변동없음\" height=\"10\" src=\"https://ssl.pstatic.net/static/comic/images/migration/common/arrow_no.gif\" title=\"변동없음\" width=\"7\"/> 0\n",
       " \t\t\t\t\t\t\n",
       " \t\t\t\t\t\n",
       " \t\t\t\t</span>\n",
       " </li>, <li class=\"rank08\">\n",
       " <a href=\"/webtoon/detail.nhn?titleId=749639&amp;no=47\" onclick=\"nclk_v2(event,'rnk*p.cont','749639','8')\" title=\"남주의 첫날밤을 가져버렸다-47화\">남주의 첫날밤을 가져버렸다-47화</a>\n",
       " <span class=\"rankBox\">\n",
       " <img alt=\"순위하락\" height=\"10\" src=\"https://ssl.pstatic.net/static/comic/images/migration/common/arrow_down.gif\" title=\"순위하락\" width=\"7\"/>2\n",
       " \t\t\t\t\t\t\n",
       " \t\t\t\t\t\t\n",
       " \t\t\t\t\t\t\n",
       " \t\t\t\t\t\n",
       " \t\t\t\t</span>\n",
       " </li>, <li class=\"rank09\">\n",
       " <a href=\"/webtoon/detail.nhn?titleId=710747&amp;no=130\" onclick=\"nclk_v2(event,'rnk*p.cont','710747','9')\" title=\"세상은 돈과 권력-시즌2 23화\">세상은 돈과 권력-시즌2 23화</a>\n",
       " <span class=\"rankBox\">\n",
       " <img alt=\"변동없음\" height=\"10\" src=\"https://ssl.pstatic.net/static/comic/images/migration/common/arrow_no.gif\" title=\"변동없음\" width=\"7\"/> 0\n",
       " \t\t\t\t\t\t\n",
       " \t\t\t\t\t\n",
       " \t\t\t\t</span>\n",
       " </li>, <li class=\"rank10\">\n",
       " <a href=\"/webtoon/detail.nhn?titleId=736744&amp;no=81\" onclick=\"nclk_v2(event,'rnk*p.cont','736744','10')\" title=\"캐슬-80화\">캐슬-80화</a>\n",
       " <span class=\"rankBox\">\n",
       " <img alt=\"순위상승\" height=\"10\" src=\"https://ssl.pstatic.net/static/comic/images/migration/common/arrow_up.gif\" title=\"순위상승\" width=\"7\"/>1\n",
       " \t\t\t\t\t\t\n",
       " \t\t\t\t\t\t\n",
       " \t\t\t\t\t\n",
       " \t\t\t\t</span>\n",
       " </li>]"
      ]
     },
     "execution_count": 25,
     "metadata": {},
     "output_type": "execute_result"
    }
   ],
   "source": [
    "rank1.find_next_siblings(\"li\")"
   ]
  },
  {
   "cell_type": "code",
   "execution_count": 26,
   "metadata": {},
   "outputs": [
    {
     "name": "stdout",
     "output_type": "stream",
     "text": [
      "None\n"
     ]
    }
   ],
   "source": [
    "webtoon = soup.find(\"a\", text=\"삼시세끼 국밥만을 고집하는 거구의 소년 '국장환‘ 과 대회 상금을 노리는 재벌집 딸 '이송희' 가 한 팀이 되어 국밥왕 대회 제패에 나선다.\")\n",
    "print(webtoon)"
   ]
  },
  {
   "cell_type": "code",
   "execution_count": null,
   "metadata": {},
   "outputs": [],
   "source": []
  },
  {
   "cell_type": "code",
   "execution_count": null,
   "metadata": {},
   "outputs": [],
   "source": []
  }
 ],
 "metadata": {
  "kernelspec": {
   "display_name": "Python 3",
   "language": "python",
   "name": "python3"
  },
  "language_info": {
   "codemirror_mode": {
    "name": "ipython",
    "version": 3
   },
   "file_extension": ".py",
   "mimetype": "text/x-python",
   "name": "python",
   "nbconvert_exporter": "python",
   "pygments_lexer": "ipython3",
   "version": "3.6.9"
  }
 },
 "nbformat": 4,
 "nbformat_minor": 4
}
