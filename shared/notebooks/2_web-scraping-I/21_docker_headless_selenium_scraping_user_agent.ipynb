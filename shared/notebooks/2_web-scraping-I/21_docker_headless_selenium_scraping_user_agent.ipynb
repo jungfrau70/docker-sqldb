{
 "cells": [
  {
   "cell_type": "markdown",
   "metadata": {},
   "source": [
    "### 헤드리스 크롬\n",
    "\n",
    "구글 인기영화 - 할인 중인 영화"
   ]
  },
  {
   "cell_type": "markdown",
   "metadata": {},
   "source": [
    "### User-Agent 설정하기\n",
    "User-Agent 설정 없을 시, header 정보에 HeadlessChrome 이 들어가게 되어 해당 서버에서 접근을 막을 수 있어\n",
    "아래와 같이 User-Agent를 설정해준다"
   ]
  },
  {
   "cell_type": "code",
   "execution_count": 34,
   "metadata": {},
   "outputs": [],
   "source": [
    "import time\n",
    "from selenium import webdriver\n",
    "from selenium.webdriver.chrome.options import Options"
   ]
  },
  {
   "cell_type": "code",
   "execution_count": 35,
   "metadata": {},
   "outputs": [],
   "source": [
    "options = webdriver.ChromeOptions()\n",
    "options.headless = True\n",
    "options.add_argument('--headless')\n",
    "options.add_argument('--no-sandbox')\n",
    "options.add_argument('--disable-dev-shm-usage')\n",
    "options.add_argument(\"window-size=1920x1080\") # 가상화면 크기\n",
    "options.add_argument(\"user-agent=Mozilla/5.0 (Windows NT 10.0; Win64; x64) AppleWebKit/537.36 (KHTML, like Gecko) Chrome/84.0.4147.135 Safari/537.36\")"
   ]
  },
  {
   "cell_type": "code",
   "execution_count": 37,
   "metadata": {},
   "outputs": [
    {
     "name": "stdout",
     "output_type": "stream",
     "text": [
      "total 14478\n",
      "drwxrwxrwx 1 root   root       512 Jun  9 09:03 .\n",
      "drwxrwxrwx 1 root   root       512 Jun  7 11:30 ..\n",
      "-rwxrwxrwx 1 root   root     29313 Jun  7 11:30 10_bs4_cupang-pages.ipynb\n",
      "-rwxrwxrwx 1 root   root     21001 Jun  7 11:30 11_daum_movies.ipynb\n",
      "-rwxrwxrwx 1 root   root     11396 Jun  7 11:30 12_csv_stock.ipynb\n",
      "-rwxrwxrwx 1 root   root    452741 Jun  7 11:30 13_local_selenium.ipynb\n",
      "-rwxrwxrwx 1 root   root      6855 Jun  7 11:30 14_local_selenium-flight.ipynb\n",
      "-rwxrwxrwx 1 root   root      3134 Jun  7 11:30 15_local_selenium-movies.ipynb\n",
      "-rwxrwxrwx 1 root   root     11831 Jun  7 11:30 16_local_selenium-movies_scroll_scraping.ipynb\n",
      "-rwxrwxrwx 1 root   root      9776 Jun  7 11:30 17_local_headless_selenium-movies_scroll_scraping.ipynb\n",
      "-rwxrwxrwx 1 root   root      9464 Jun  9 08:50 18_local_headless_selenium-movies_scroll_scraping_user_agent.ipynb\n",
      "-rwxrwxrwx 1 root   root       555 Jun  9 08:44 1_html.ipynb\n",
      "-rwxrwxrwx 1 root   root      8962 Jun  9 09:02 21_docker_headless_selenium_scraping_user_agent.ipynb\n",
      "-rwxrwxrwx 1 root   root       555 Jun  9 08:44 2_xpath.ipynb\n",
      "-rwxrwxrwx 1 root   root     17320 Jun  9 08:44 3_requests.ipynb\n",
      "-rwxrwxrwx 1 root   root      5120 Jun  9 08:44 4_re.ipynb\n",
      "-rwxrwxrwx 1 root   root     81903 Jun  9 08:45 5_user_agent.ipynb\n",
      "-rwxrwxrwx 1 root   root     24755 Jun  9 08:47 6_bs4.ipynb\n",
      "-rwxrwxrwx 1 root   root     12050 Jun  7 11:30 7_bs4_webtoons.ipynb\n",
      "-rwxrwxrwx 1 root   root      6656 Jun  7 11:30 8_bs4_gauss.ipynb\n",
      "-rwxrwxrwx 1 root   root    734488 Jun  7 11:30 9_bs4_cupang.ipynb\n",
      "-rwxr-xr-- 1 jovyan users 11728112 Jun  9 09:03 chromedriver\n",
      "drwxrwxrwx 1 root   root       512 Jun  9 08:42 .ipynb_checkpoints\n",
      "-rw-r--r-- 1 jovyan users    14106 Jun  9 08:43 mygoogle.html\n",
      "-rw-r--r-- 1 jovyan users    50199 Jun  9 08:44 nadocoding.html\n",
      "-rwxrwxrwx 1 root   root   1525669 Jun  7 11:30 웹스크래핑.pdf\n",
      "-rwxrwxrwx 1 root   root     11397 Jun  7 11:30 쿠팡.png\n"
     ]
    }
   ],
   "source": [
    "!ls -al"
   ]
  },
  {
   "cell_type": "code",
   "execution_count": 38,
   "metadata": {},
   "outputs": [],
   "source": [
    "chromedriver = './chromedriver'\n",
    "browser = webdriver.Chrome(chromedriver, options=options)\n",
    "#browser.maximize_window() # 최대화"
   ]
  },
  {
   "cell_type": "code",
   "execution_count": 39,
   "metadata": {},
   "outputs": [],
   "source": [
    "url = \"https://www.whatismybrowser.com/detect/what-is-my-user-agent\""
   ]
  },
  {
   "cell_type": "code",
   "execution_count": 40,
   "metadata": {},
   "outputs": [],
   "source": [
    "browser.get(url)"
   ]
  },
  {
   "cell_type": "code",
   "execution_count": 41,
   "metadata": {},
   "outputs": [
    {
     "name": "stdout",
     "output_type": "stream",
     "text": [
      "Mozilla/5.0 (Windows NT 10.0; Win64; x64) AppleWebKit/537.36 (KHTML, like Gecko) Chrome/84.0.4147.135 Safari/537.36\n"
     ]
    }
   ],
   "source": [
    "detected_value = browser.find_element_by_id(\"detected_value\")\n",
    "print (detected_value.text)"
   ]
  },
  {
   "cell_type": "code",
   "execution_count": 42,
   "metadata": {},
   "outputs": [],
   "source": [
    "# 브라우저 종료\n",
    "browser.quit()"
   ]
  },
  {
   "cell_type": "code",
   "execution_count": null,
   "metadata": {},
   "outputs": [],
   "source": []
  }
 ],
 "metadata": {
  "kernelspec": {
   "display_name": "Python 3",
   "language": "python",
   "name": "python3"
  },
  "language_info": {
   "codemirror_mode": {
    "name": "ipython",
    "version": 3
   },
   "file_extension": ".py",
   "mimetype": "text/x-python",
   "name": "python",
   "nbconvert_exporter": "python",
   "pygments_lexer": "ipython3",
   "version": "3.6.9"
  }
 },
 "nbformat": 4,
 "nbformat_minor": 4
}
